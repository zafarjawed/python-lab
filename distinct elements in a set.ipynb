{
 "cells": [
  {
   "cell_type": "code",
   "execution_count": 7,
   "id": "a06f2751-cd9b-4df4-8d5c-b0b78e712af9",
   "metadata": {},
   "outputs": [
    {
     "name": "stdin",
     "output_type": "stream",
     "text": [
      " 5\n",
      " 3\n",
      " 2\n",
      " 3\n",
      " 780\n",
      " 90\n"
     ]
    },
    {
     "name": "stdout",
     "output_type": "stream",
     "text": [
      "4\n"
     ]
    }
   ],
   "source": [
    "#program to find the number of distinct elements in a set\n",
    "n=int(input())    \n",
    "a=[]\n",
    "for i in range(n):\n",
    "    b=input()\n",
    "    a.append(b)\n",
    "d=set(a)\n",
    "l=len(d)\n",
    "print(l)"
   ]
  },
  {
   "cell_type": "code",
   "execution_count": null,
   "id": "1b960eba-dec9-4fd0-919c-6aa25cd64048",
   "metadata": {},
   "outputs": [],
   "source": []
  }
 ],
 "metadata": {
  "kernelspec": {
   "display_name": "Python 3 (ipykernel)",
   "language": "python",
   "name": "python3"
  },
  "language_info": {
   "codemirror_mode": {
    "name": "ipython",
    "version": 3
   },
   "file_extension": ".py",
   "mimetype": "text/x-python",
   "name": "python",
   "nbconvert_exporter": "python",
   "pygments_lexer": "ipython3",
   "version": "3.12.4"
  }
 },
 "nbformat": 4,
 "nbformat_minor": 5
}
