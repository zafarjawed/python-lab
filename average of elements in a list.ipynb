{
 "cells": [
  {
   "cell_type": "code",
   "execution_count": 2,
   "id": "f55bc856-9402-4d6e-b908-f35e0b4a34d4",
   "metadata": {},
   "outputs": [
    {
     "name": "stdin",
     "output_type": "stream",
     "text": [
      " 9\n",
      " 4\n",
      " 5\n",
      " 1\n",
      " 2\n",
      " 2\n",
      " 7\n",
      " 9\n",
      " 4\n",
      " 6\n"
     ]
    },
    {
     "name": "stdout",
     "output_type": "stream",
     "text": [
      "40\n",
      "4.444444444444445\n"
     ]
    }
   ],
   "source": [
    "n = int(input())\n",
    "list1 = []\n",
    "for i in range(n):\n",
    "    values = int(input())\n",
    "    list1.append(values)\n",
    "\n",
    "total_sum = sum(list1)\n",
    "print(total_sum)\n",
    "\n",
    "average = total_sum / n\n",
    "print(average)\n"
   ]
  },
  {
   "cell_type": "code",
   "execution_count": null,
   "id": "f897fc5c-945b-4e59-803b-34ab15bd5fa9",
   "metadata": {},
   "outputs": [],
   "source": []
  }
 ],
 "metadata": {
  "kernelspec": {
   "display_name": "Python 3 (ipykernel)",
   "language": "python",
   "name": "python3"
  },
  "language_info": {
   "codemirror_mode": {
    "name": "ipython",
    "version": 3
   },
   "file_extension": ".py",
   "mimetype": "text/x-python",
   "name": "python",
   "nbconvert_exporter": "python",
   "pygments_lexer": "ipython3",
   "version": "3.12.4"
  }
 },
 "nbformat": 4,
 "nbformat_minor": 5
}
