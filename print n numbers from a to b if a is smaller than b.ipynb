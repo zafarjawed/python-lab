{
 "cells": [
  {
   "cell_type": "code",
   "execution_count": 9,
   "id": "56e9e6cc-e3d8-40fa-89fc-c4cee625c1b3",
   "metadata": {
    "scrolled": true
   },
   "outputs": [
    {
     "name": "stdin",
     "output_type": "stream",
     "text": [
      "Enter the starting number (a):  4\n",
      "Enter the ending number (b):  10\n"
     ]
    },
    {
     "name": "stdout",
     "output_type": "stream",
     "text": [
      "4\n",
      "5\n",
      "6\n",
      "7\n",
      "8\n",
      "9\n",
      "10\n"
     ]
    }
   ],
   "source": [
    "#write a program to print all numbers between a and b using while loop \n",
    "a = int(input(\"Enter the starting number (a): \"))\n",
    "b = int(input(\"Enter the ending number (b): \"))\n",
    "while a <= b:\n",
    "    print(a)\n",
    "    a += 1"
   ]
  }
 ],
 "metadata": {
  "kernelspec": {
   "display_name": "Python 3 (ipykernel)",
   "language": "python",
   "name": "python3"
  },
  "language_info": {
   "codemirror_mode": {
    "name": "ipython",
    "version": 3
   },
   "file_extension": ".py",
   "mimetype": "text/x-python",
   "name": "python",
   "nbconvert_exporter": "python",
   "pygments_lexer": "ipython3",
   "version": "3.12.4"
  }
 },
 "nbformat": 4,
 "nbformat_minor": 5
}
