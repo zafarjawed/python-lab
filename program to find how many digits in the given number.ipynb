{
 "cells": [
  {
   "cell_type": "code",
   "execution_count": 1,
   "id": "0d9b51c3-1f8a-4d21-a094-79cd12c42c15",
   "metadata": {},
   "outputs": [
    {
     "name": "stdin",
     "output_type": "stream",
     "text": [
      "Enter a number:  515\n"
     ]
    },
    {
     "name": "stdout",
     "output_type": "stream",
     "text": [
      "The number of digits is: 3\n"
     ]
    }
   ],
   "source": [
    "#write a program to find how many digits in the given number\n",
    "number = int(input(\"Enter a number: \"))\n",
    "count = 0\n",
    "while number != 0:\n",
    "    number //= 10\n",
    "    count += 1\n",
    "print(\"The number of digits is:\", count)"
   ]
  },
  {
   "cell_type": "code",
   "execution_count": null,
   "id": "f27cc1c3-e812-43c1-aea5-59e91e12017a",
   "metadata": {},
   "outputs": [],
   "source": []
  }
 ],
 "metadata": {
  "kernelspec": {
   "display_name": "Python 3 (ipykernel)",
   "language": "python",
   "name": "python3"
  },
  "language_info": {
   "codemirror_mode": {
    "name": "ipython",
    "version": 3
   },
   "file_extension": ".py",
   "mimetype": "text/x-python",
   "name": "python",
   "nbconvert_exporter": "python",
   "pygments_lexer": "ipython3",
   "version": "3.12.4"
  }
 },
 "nbformat": 4,
 "nbformat_minor": 5
}
